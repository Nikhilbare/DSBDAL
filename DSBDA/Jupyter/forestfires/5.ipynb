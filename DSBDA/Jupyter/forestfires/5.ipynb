{
 "cells": [
  {
   "cell_type": "code",
   "execution_count": 1,
   "id": "8a9da3b1-fc96-4ca7-93bd-3320b793090f",
   "metadata": {},
   "outputs": [
    {
     "name": "stdout",
     "output_type": "stream",
     "text": [
      "Defaulting to user installation because normal site-packages is not writeable\n",
      "Collecting mrjob\n",
      "  Downloading mrjob-0.7.4-py2.py3-none-any.whl (439 kB)\n",
      "\u001b[2K     \u001b[38;2;114;156;31m━━━━━━━━━━━━━━━━━━━━━━━━━━━━━━━━━━━━━━━\u001b[0m \u001b[32m439.6/439.6 KB\u001b[0m \u001b[31m3.3 MB/s\u001b[0m eta \u001b[36m0:00:00\u001b[0m MB/s\u001b[0m eta \u001b[36m0:00:01\u001b[0m:01\u001b[0m\n",
      "\u001b[?25hRequirement already satisfied: PyYAML>=3.10 in /usr/lib/python3/dist-packages (from mrjob) (5.4.1)\n",
      "Installing collected packages: mrjob\n",
      "Successfully installed mrjob-0.7.4\n"
     ]
    }
   ],
   "source": [
    "!pip install mrjob"
   ]
  },
  {
   "cell_type": "code",
   "execution_count": 2,
   "id": "0ece4c65-27a5-44a5-be8e-223aa96564fd",
   "metadata": {},
   "outputs": [
    {
     "name": "stderr",
     "output_type": "stream",
     "text": [
      "usage: ipykernel_launcher.py [options] [input files]\n",
      "ipykernel_launcher.py: error: unrecognized arguments: -f\n"
     ]
    },
    {
     "ename": "SystemExit",
     "evalue": "2",
     "output_type": "error",
     "traceback": [
      "An exception has occurred, use %tb to see the full traceback.\n",
      "\u001b[0;31mSystemExit\u001b[0m\u001b[0;31m:\u001b[0m 2\n"
     ]
    },
    {
     "name": "stderr",
     "output_type": "stream",
     "text": [
      "/home/sapatevaibhav/.local/lib/python3.10/site-packages/IPython/core/interactiveshell.py:3516: UserWarning: To exit: use 'exit', 'quit', or Ctrl-D.\n",
      "  warn(\"To exit: use 'exit', 'quit', or Ctrl-D.\", stacklevel=1)\n"
     ]
    }
   ],
   "source": []
  },
  {
   "cell_type": "code",
   "execution_count": 5,
   "id": "4a50c287-da05-4eec-8695-6bbb221a0e79",
   "metadata": {},
   "outputs": [
    {
     "name": "stdout",
     "output_type": "stream",
     "text": [
      "No configs found; falling back on auto-configuration\n",
      "No configs specified for hadoop runner\n",
      "Looking for hadoop binary in $PATH...\n",
      "Falling back to 'hadoop'\n",
      "Traceback (most recent call last):\n",
      "  File \"/home/sapatevaibhav/Desktop/DSBDA/Jupyter/forestfires/forestfire_analysis.py\", line 22, in <module>\n",
      "    ForestFireAnalysis.run()\n",
      "  File \"/home/sapatevaibhav/.local/lib/python3.10/site-packages/mrjob/job.py\", line 616, in run\n",
      "    cls().execute()\n",
      "  File \"/home/sapatevaibhav/.local/lib/python3.10/site-packages/mrjob/job.py\", line 687, in execute\n",
      "    self.run_job()\n",
      "  File \"/home/sapatevaibhav/.local/lib/python3.10/site-packages/mrjob/job.py\", line 636, in run_job\n",
      "    runner.run()\n",
      "  File \"/home/sapatevaibhav/.local/lib/python3.10/site-packages/mrjob/runner.py\", line 503, in run\n",
      "    self._run()\n",
      "  File \"/home/sapatevaibhav/.local/lib/python3.10/site-packages/mrjob/hadoop.py\", line 325, in _run\n",
      "    self._find_binaries_and_jars()\n",
      "  File \"/home/sapatevaibhav/.local/lib/python3.10/site-packages/mrjob/hadoop.py\", line 339, in _find_binaries_and_jars\n",
      "    self.get_hadoop_version()\n",
      "  File \"/home/sapatevaibhav/.local/lib/python3.10/site-packages/mrjob/hadoop.py\", line 210, in get_hadoop_version\n",
      "    return self.fs.hadoop.get_hadoop_version()\n",
      "  File \"/home/sapatevaibhav/.local/lib/python3.10/site-packages/mrjob/fs/hadoop.py\", line 128, in get_hadoop_version\n",
      "    stdout = self.invoke_hadoop(['version'], return_stdout=True)\n",
      "  File \"/home/sapatevaibhav/.local/lib/python3.10/site-packages/mrjob/fs/hadoop.py\", line 160, in invoke_hadoop\n",
      "    proc = Popen(args, stdout=PIPE, stderr=PIPE)\n",
      "  File \"/usr/lib/python3.10/subprocess.py\", line 971, in __init__\n",
      "    self._execute_child(args, executable, preexec_fn, close_fds,\n",
      "  File \"/usr/lib/python3.10/subprocess.py\", line 1863, in _execute_child\n",
      "    raise child_exception_type(errno_num, err_msg, err_filename)\n",
      "FileNotFoundError: [Errno 2] No such file or directory: 'hadoop'\n"
     ]
    }
   ],
   "source": [
    "if __name__ == '__main__':\n",
    "    # Run the job on Hadoop cluster\n",
    "    !python3 forestfire_analysis.py -r hadoop forestfires.csv --output-dir hdfs:///output/forestfire_analysis\n"
   ]
  },
  {
   "cell_type": "code",
   "execution_count": null,
   "id": "154e5f26-d2c0-471b-9130-29610945cf32",
   "metadata": {},
   "outputs": [],
   "source": []
  }
 ],
 "metadata": {
  "kernelspec": {
   "display_name": "Python 3 (ipykernel)",
   "language": "python",
   "name": "python3"
  },
  "language_info": {
   "codemirror_mode": {
    "name": "ipython",
    "version": 3
   },
   "file_extension": ".py",
   "mimetype": "text/x-python",
   "name": "python",
   "nbconvert_exporter": "python",
   "pygments_lexer": "ipython3",
   "version": "3.10.12"
  }
 },
 "nbformat": 4,
 "nbformat_minor": 5
}
